{
  "nbformat": 4,
  "nbformat_minor": 0,
  "metadata": {
    "colab": {
      "provenance": []
    },
    "kernelspec": {
      "name": "python3",
      "display_name": "Python 3"
    },
    "language_info": {
      "name": "python"
    }
  },
  "cells": [
    {
      "cell_type": "markdown",
      "source": [
        "Importing Necessary Libraries"
      ],
      "metadata": {
        "id": "57wblhZKrWJF"
      }
    },
    {
      "cell_type": "code",
      "source": [
        "import pandas as pd\n",
        "import numpy as np\n",
        "import re\n",
        "import seaborn as sns\n",
        "import matplotlib.pyplot as plt\n",
        "from textblob import TextBlob"
      ],
      "metadata": {
        "id": "VnHQkIucrnjr"
      },
      "execution_count": 5,
      "outputs": []
    },
    {
      "cell_type": "code",
      "source": [
        "!pip install textblob"
      ],
      "metadata": {
        "colab": {
          "base_uri": "https://localhost:8080/"
        },
        "id": "dm8rYf7Ar_Ah",
        "outputId": "f464afbe-0c36-425d-f32b-38d9d5dbbc8e"
      },
      "execution_count": 6,
      "outputs": [
        {
          "output_type": "stream",
          "name": "stdout",
          "text": [
            "Requirement already satisfied: textblob in /usr/local/lib/python3.10/dist-packages (0.17.1)\n",
            "Requirement already satisfied: nltk>=3.1 in /usr/local/lib/python3.10/dist-packages (from textblob) (3.8.1)\n",
            "Requirement already satisfied: click in /usr/local/lib/python3.10/dist-packages (from nltk>=3.1->textblob) (8.1.7)\n",
            "Requirement already satisfied: joblib in /usr/local/lib/python3.10/dist-packages (from nltk>=3.1->textblob) (1.3.2)\n",
            "Requirement already satisfied: regex>=2021.8.3 in /usr/local/lib/python3.10/dist-packages (from nltk>=3.1->textblob) (2023.12.25)\n",
            "Requirement already satisfied: tqdm in /usr/local/lib/python3.10/dist-packages (from nltk>=3.1->textblob) (4.66.1)\n"
          ]
        }
      ]
    },
    {
      "cell_type": "code",
      "source": [
        "df = pd.read_csv('Reviews.csv')"
      ],
      "metadata": {
        "id": "9Nu4uJi-sCgN"
      },
      "execution_count": 8,
      "outputs": []
    },
    {
      "cell_type": "code",
      "source": [
        "df.info()"
      ],
      "metadata": {
        "colab": {
          "base_uri": "https://localhost:8080/"
        },
        "id": "0zD-6s5bsngR",
        "outputId": "3d62e5a0-954e-4850-d5be-a8ef089e5349"
      },
      "execution_count": 9,
      "outputs": [
        {
          "output_type": "stream",
          "name": "stdout",
          "text": [
            "<class 'pandas.core.frame.DataFrame'>\n",
            "RangeIndex: 27783 entries, 0 to 27782\n",
            "Data columns (total 10 columns):\n",
            " #   Column                  Non-Null Count  Dtype \n",
            "---  ------                  --------------  ----- \n",
            " 0   Id                      27783 non-null  int64 \n",
            " 1   ProductId               27783 non-null  object\n",
            " 2   UserId                  27783 non-null  object\n",
            " 3   ProfileName             27782 non-null  object\n",
            " 4   HelpfulnessNumerator    27783 non-null  int64 \n",
            " 5   HelpfulnessDenominator  27783 non-null  int64 \n",
            " 6   Score                   27783 non-null  int64 \n",
            " 7   Time                    27783 non-null  int64 \n",
            " 8   Summary                 27783 non-null  object\n",
            " 9   Text                    27783 non-null  object\n",
            "dtypes: int64(5), object(5)\n",
            "memory usage: 2.1+ MB\n"
          ]
        }
      ]
    },
    {
      "cell_type": "code",
      "source": [
        "df.isnull().sum()"
      ],
      "metadata": {
        "colab": {
          "base_uri": "https://localhost:8080/"
        },
        "id": "bw0tag3EspZa",
        "outputId": "6b3ba7fe-ed4e-4c34-b04b-f410ae9db2e4"
      },
      "execution_count": 11,
      "outputs": [
        {
          "output_type": "execute_result",
          "data": {
            "text/plain": [
              "Id                        0\n",
              "ProductId                 0\n",
              "UserId                    0\n",
              "ProfileName               1\n",
              "HelpfulnessNumerator      0\n",
              "HelpfulnessDenominator    0\n",
              "Score                     0\n",
              "Time                      0\n",
              "Summary                   0\n",
              "Text                      0\n",
              "dtype: int64"
            ]
          },
          "metadata": {},
          "execution_count": 11
        }
      ]
    },
    {
      "cell_type": "code",
      "source": [
        "df.columns"
      ],
      "metadata": {
        "colab": {
          "base_uri": "https://localhost:8080/"
        },
        "id": "5nghfPYIs-xE",
        "outputId": "2eab423e-a8ad-4c50-ec5e-61d09bd733d6"
      },
      "execution_count": 12,
      "outputs": [
        {
          "output_type": "execute_result",
          "data": {
            "text/plain": [
              "Index(['Id', 'ProductId', 'UserId', 'ProfileName', 'HelpfulnessNumerator',\n",
              "       'HelpfulnessDenominator', 'Score', 'Time', 'Summary', 'Text'],\n",
              "      dtype='object')"
            ]
          },
          "metadata": {},
          "execution_count": 12
        }
      ]
    },
    {
      "cell_type": "code",
      "source": [
        "text_df['Text']= df['Text']\n",
        "text_df.head()"
      ],
      "metadata": {
        "colab": {
          "base_uri": "https://localhost:8080/"
        },
        "id": "DGm7p07RtOHd",
        "outputId": "280e2aec-fa58-44e2-c5d0-4baa83375049"
      },
      "execution_count": 27,
      "outputs": [
        {
          "output_type": "execute_result",
          "data": {
            "text/plain": [
              "0    I have bought several of the Vitality canned d...\n",
              "1    Product arrived labeled as Jumbo Salted Peanut...\n",
              "2    This is a confection that has been around a fe...\n",
              "3    If you are looking for the secret ingredient i...\n",
              "4    Great taffy at a great price.  There was a wid...\n",
              "Name: Text, dtype: object"
            ]
          },
          "metadata": {},
          "execution_count": 27
        }
      ]
    },
    {
      "cell_type": "code",
      "source": [
        "def polarity(text):\n",
        "  return TextBlob(text).sentiment.polarity\n",
        "text_df['polarity'] = text_df['Text'].apply(polarity)"
      ],
      "metadata": {
        "id": "6h1sXQtNtc3g"
      },
      "execution_count": 28,
      "outputs": []
    },
    {
      "cell_type": "code",
      "source": [
        "def sentiment(label):\n",
        "  if label < 0:\n",
        "    return \"Negative\"\n",
        "  elif label == 0:\n",
        "    return \"Neutral\"\n",
        "  elif label > 0:\n",
        "    return \"Positive\"\n",
        "text_df['sentiment'] = text_df['polarity'].apply(sentiment)\n",
        "text_df.head(3)"
      ],
      "metadata": {
        "colab": {
          "base_uri": "https://localhost:8080/"
        },
        "id": "pBD5lBGtvkAb",
        "outputId": "5a8bdebc-7e49-4d79-a118-81d5841c1991"
      },
      "execution_count": 32,
      "outputs": [
        {
          "output_type": "execute_result",
          "data": {
            "text/plain": [
              "0    I have bought several of the Vitality canned d...\n",
              "1    Product arrived labeled as Jumbo Salted Peanut...\n",
              "2    This is a confection that has been around a fe...\n",
              "Name: Text, dtype: object"
            ]
          },
          "metadata": {},
          "execution_count": 32
        }
      ]
    },
    {
      "cell_type": "code",
      "source": [
        "fig = plt.figure(figsize=(5,5))\n",
        "sns.countplot(text_df['sentiment'],color='blue')"
      ],
      "metadata": {
        "colab": {
          "base_uri": "https://localhost:8080/",
          "height": 482
        },
        "id": "Jhs6Q1g02CF3",
        "outputId": "7f996893-79c4-4ca7-a14b-40b635d1b5e9"
      },
      "execution_count": 42,
      "outputs": [
        {
          "output_type": "execute_result",
          "data": {
            "text/plain": [
              "<Axes: xlabel='count', ylabel='Text'>"
            ]
          },
          "metadata": {},
          "execution_count": 42
        },
        {
          "output_type": "display_data",
          "data": {
            "text/plain": [
              "<Figure size 500x500 with 1 Axes>"
            ],
            "image/png": "[encoded data removed]"
          },
          "metadata": {}
        }
      ]
    },
    {
      "cell_type": "code",
      "source": [],
      "metadata": {
        "id": "XNrTXbWQ2RXb"
      },
      "execution_count": null,
      "outputs": []
    }
  ]
}